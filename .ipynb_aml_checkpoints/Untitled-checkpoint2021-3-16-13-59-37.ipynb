{
  "cells": [
    {
      "cell_type": "code",
      "source": [
        "# !pip install -q kaggle"
      ],
      "outputs": [],
      "execution_count": 1,
      "metadata": {}
    },
    {
      "cell_type": "code",
      "source": [
        "# import os\r\n",
        "# os.environ['KAGGLE_USERNAME'] = 'jhawarchirag0'\r\n",
        "# os.environ['KAGGLE_KEY'] = 'ff3399fb96776874b1af83012390af5d'"
      ],
      "outputs": [],
      "execution_count": 2,
      "metadata": {
        "collapsed": true,
        "jupyter": {
          "source_hidden": false,
          "outputs_hidden": false
        },
        "nteract": {
          "transient": {
            "deleting": false
          }
        },
        "gather": {
          "logged": 1617981380402
        }
      }
    },
    {
      "cell_type": "code",
      "source": [
        "# import kaggle as kg"
      ],
      "outputs": [],
      "execution_count": null,
      "metadata": {
        "collapsed": true,
        "jupyter": {
          "source_hidden": false,
          "outputs_hidden": false
        },
        "nteract": {
          "transient": {
            "deleting": false
          }
        }
      }
    },
    {
      "cell_type": "code",
      "source": [
        "import ast\r\n",
        "import json\r\n",
        "import pandas as pd \r\n",
        "import numpy as np\r\n",
        "from sklearn.feature_extraction.text import TfidfVectorizer\r\n",
        "from sklearn.metrics.pairwise import linear_kernel"
      ],
      "outputs": [],
      "execution_count": 2,
      "metadata": {
        "collapsed": true,
        "jupyter": {
          "source_hidden": false,
          "outputs_hidden": false
        },
        "nteract": {
          "transient": {
            "deleting": false
          }
        },
        "gather": {
          "logged": 1618559785558
        }
      }
    },
    {
      "cell_type": "code",
      "source": [
        "cd cloudfiles/code/Users/chirag.jhawar"
      ],
      "outputs": [
        {
          "output_type": "stream",
          "name": "stdout",
          "text": [
            "[Errno 2] No such file or directory: 'cloudfiles/code/Users/chirag.jhawar'\n",
            "/mnt/batch/tasks/shared/LS_root/mounts/clusters/movie-ram/code/Users/chirag.jhawar\n"
          ]
        }
      ],
      "execution_count": 2,
      "metadata": {
        "collapsed": true,
        "jupyter": {
          "source_hidden": false,
          "outputs_hidden": false
        },
        "nteract": {
          "transient": {
            "deleting": false
          }
        },
        "gather": {
          "logged": 1618559028054
        }
      }
    },
    {
      "cell_type": "code",
      "source": [
        "# kg.api.authenticate()\r\n",
        "# kg.api.dataset_download_files(dataset=\"rounakbanik/the-movies-dataset\", path='gt.zip', unzip=True)"
      ],
      "outputs": [],
      "execution_count": 4,
      "metadata": {
        "collapsed": true,
        "jupyter": {
          "source_hidden": false,
          "outputs_hidden": false
        },
        "nteract": {
          "transient": {
            "deleting": false
          }
        },
        "gather": {
          "logged": 1617979765347
        }
      }
    },
    {
      "cell_type": "code",
      "source": [
        "# df1 = pd.read_csv('gt.zip/movies_metadata.csv', encoding='ISO-8859-1')\r\n",
        "# df1.head()"
      ],
      "outputs": [
        {
          "output_type": "stream",
          "name": "stderr",
          "text": [
            "/anaconda/envs/azureml_py36/lib/python3.6/site-packages/IPython/core/interactiveshell.py:3072: DtypeWarning: Columns (10) have mixed types. Specify dtype option on import or set low_memory=False.\n",
            "  interactivity=interactivity, compiler=compiler, result=result)\n"
          ]
        },
        {
          "output_type": "execute_result",
          "execution_count": 3,
          "data": {
            "text/plain": "   adult                              belongs_to_collection    budget  \\\n0  False  {'id': 10194, 'name': 'Toy Story Collection', ...  30000000   \n1  False                                                NaN  65000000   \n2  False  {'id': 119050, 'name': 'Grumpy Old Men Collect...         0   \n3  False                                                NaN  16000000   \n4  False  {'id': 96871, 'name': 'Father of the Bride Col...         0   \n\n                                              genres  \\\n0  [{'id': 16, 'name': 'Animation'}, {'id': 35, '...   \n1  [{'id': 12, 'name': 'Adventure'}, {'id': 14, '...   \n2  [{'id': 10749, 'name': 'Romance'}, {'id': 35, ...   \n3  [{'id': 35, 'name': 'Comedy'}, {'id': 18, 'nam...   \n4                     [{'id': 35, 'name': 'Comedy'}]   \n\n                               homepage     id    imdb_id original_language  \\\n0  http://toystory.disney.com/toy-story    862  tt0114709                en   \n1                                   NaN   8844  tt0113497                en   \n2                                   NaN  15602  tt0113228                en   \n3                                   NaN  31357  tt0114885                en   \n4                                   NaN  11862  tt0113041                en   \n\n                original_title  \\\n0                    Toy Story   \n1                      Jumanji   \n2             Grumpier Old Men   \n3            Waiting to Exhale   \n4  Father of the Bride Part II   \n\n                                            overview  ... release_date  \\\n0  Led by Woody, Andy's toys live happily in his ...  ...   1995-10-30   \n1  When siblings Judy and Peter discover an encha...  ...   1995-12-15   \n2  A family wedding reignites the ancient feud be...  ...   1995-12-22   \n3  Cheated on, mistreated and stepped on, the wom...  ...   1995-12-22   \n4  Just when George Banks has recovered from his ...  ...   1995-02-10   \n\n       revenue runtime                                   spoken_languages  \\\n0  373554033.0    81.0           [{'iso_639_1': 'en', 'name': 'English'}]   \n1  262797249.0   104.0  [{'iso_639_1': 'en', 'name': 'English'}, {'iso...   \n2          0.0   101.0           [{'iso_639_1': 'en', 'name': 'English'}]   \n3   81452156.0   127.0           [{'iso_639_1': 'en', 'name': 'English'}]   \n4   76578911.0   106.0           [{'iso_639_1': 'en', 'name': 'English'}]   \n\n     status                                            tagline  \\\n0  Released                                                NaN   \n1  Released          Roll the dice and unleash the excitement!   \n2  Released  Still Yelling. Still Fighting. Still Ready for...   \n3  Released  Friends are the people who let you be yourself...   \n4  Released  Just When His World Is Back To Normal... He's ...   \n\n                         title  video vote_average vote_count  \n0                    Toy Story  False          7.7     5415.0  \n1                      Jumanji  False          6.9     2413.0  \n2             Grumpier Old Men  False          6.5       92.0  \n3            Waiting to Exhale  False          6.1       34.0  \n4  Father of the Bride Part II  False          5.7      173.0  \n\n[5 rows x 24 columns]",
            "text/html": "<div>\n<style scoped>\n    .dataframe tbody tr th:only-of-type {\n        vertical-align: middle;\n    }\n\n    .dataframe tbody tr th {\n        vertical-align: top;\n    }\n\n    .dataframe thead th {\n        text-align: right;\n    }\n</style>\n<table border=\"1\" class=\"dataframe\">\n  <thead>\n    <tr style=\"text-align: right;\">\n      <th></th>\n      <th>adult</th>\n      <th>belongs_to_collection</th>\n      <th>budget</th>\n      <th>genres</th>\n      <th>homepage</th>\n      <th>id</th>\n      <th>imdb_id</th>\n      <th>original_language</th>\n      <th>original_title</th>\n      <th>overview</th>\n      <th>...</th>\n      <th>release_date</th>\n      <th>revenue</th>\n      <th>runtime</th>\n      <th>spoken_languages</th>\n      <th>status</th>\n      <th>tagline</th>\n      <th>title</th>\n      <th>video</th>\n      <th>vote_average</th>\n      <th>vote_count</th>\n    </tr>\n  </thead>\n  <tbody>\n    <tr>\n      <th>0</th>\n      <td>False</td>\n      <td>{'id': 10194, 'name': 'Toy Story Collection', ...</td>\n      <td>30000000</td>\n      <td>[{'id': 16, 'name': 'Animation'}, {'id': 35, '...</td>\n      <td>http://toystory.disney.com/toy-story</td>\n      <td>862</td>\n      <td>tt0114709</td>\n      <td>en</td>\n      <td>Toy Story</td>\n      <td>Led by Woody, Andy's toys live happily in his ...</td>\n      <td>...</td>\n      <td>1995-10-30</td>\n      <td>373554033.0</td>\n      <td>81.0</td>\n      <td>[{'iso_639_1': 'en', 'name': 'English'}]</td>\n      <td>Released</td>\n      <td>NaN</td>\n      <td>Toy Story</td>\n      <td>False</td>\n      <td>7.7</td>\n      <td>5415.0</td>\n    </tr>\n    <tr>\n      <th>1</th>\n      <td>False</td>\n      <td>NaN</td>\n      <td>65000000</td>\n      <td>[{'id': 12, 'name': 'Adventure'}, {'id': 14, '...</td>\n      <td>NaN</td>\n      <td>8844</td>\n      <td>tt0113497</td>\n      <td>en</td>\n      <td>Jumanji</td>\n      <td>When siblings Judy and Peter discover an encha...</td>\n      <td>...</td>\n      <td>1995-12-15</td>\n      <td>262797249.0</td>\n      <td>104.0</td>\n      <td>[{'iso_639_1': 'en', 'name': 'English'}, {'iso...</td>\n      <td>Released</td>\n      <td>Roll the dice and unleash the excitement!</td>\n      <td>Jumanji</td>\n      <td>False</td>\n      <td>6.9</td>\n      <td>2413.0</td>\n    </tr>\n    <tr>\n      <th>2</th>\n      <td>False</td>\n      <td>{'id': 119050, 'name': 'Grumpy Old Men Collect...</td>\n      <td>0</td>\n      <td>[{'id': 10749, 'name': 'Romance'}, {'id': 35, ...</td>\n      <td>NaN</td>\n      <td>15602</td>\n      <td>tt0113228</td>\n      <td>en</td>\n      <td>Grumpier Old Men</td>\n      <td>A family wedding reignites the ancient feud be...</td>\n      <td>...</td>\n      <td>1995-12-22</td>\n      <td>0.0</td>\n      <td>101.0</td>\n      <td>[{'iso_639_1': 'en', 'name': 'English'}]</td>\n      <td>Released</td>\n      <td>Still Yelling. Still Fighting. Still Ready for...</td>\n      <td>Grumpier Old Men</td>\n      <td>False</td>\n      <td>6.5</td>\n      <td>92.0</td>\n    </tr>\n    <tr>\n      <th>3</th>\n      <td>False</td>\n      <td>NaN</td>\n      <td>16000000</td>\n      <td>[{'id': 35, 'name': 'Comedy'}, {'id': 18, 'nam...</td>\n      <td>NaN</td>\n      <td>31357</td>\n      <td>tt0114885</td>\n      <td>en</td>\n      <td>Waiting to Exhale</td>\n      <td>Cheated on, mistreated and stepped on, the wom...</td>\n      <td>...</td>\n      <td>1995-12-22</td>\n      <td>81452156.0</td>\n      <td>127.0</td>\n      <td>[{'iso_639_1': 'en', 'name': 'English'}]</td>\n      <td>Released</td>\n      <td>Friends are the people who let you be yourself...</td>\n      <td>Waiting to Exhale</td>\n      <td>False</td>\n      <td>6.1</td>\n      <td>34.0</td>\n    </tr>\n    <tr>\n      <th>4</th>\n      <td>False</td>\n      <td>{'id': 96871, 'name': 'Father of the Bride Col...</td>\n      <td>0</td>\n      <td>[{'id': 35, 'name': 'Comedy'}]</td>\n      <td>NaN</td>\n      <td>11862</td>\n      <td>tt0113041</td>\n      <td>en</td>\n      <td>Father of the Bride Part II</td>\n      <td>Just when George Banks has recovered from his ...</td>\n      <td>...</td>\n      <td>1995-02-10</td>\n      <td>76578911.0</td>\n      <td>106.0</td>\n      <td>[{'iso_639_1': 'en', 'name': 'English'}]</td>\n      <td>Released</td>\n      <td>Just When His World Is Back To Normal... He's ...</td>\n      <td>Father of the Bride Part II</td>\n      <td>False</td>\n      <td>5.7</td>\n      <td>173.0</td>\n    </tr>\n  </tbody>\n</table>\n<p>5 rows × 24 columns</p>\n</div>"
          },
          "metadata": {}
        }
      ],
      "execution_count": 3,
      "metadata": {
        "collapsed": true,
        "jupyter": {
          "source_hidden": false,
          "outputs_hidden": false
        },
        "nteract": {
          "transient": {
            "deleting": false
          }
        },
        "gather": {
          "logged": 1618557825468
        }
      }
    },
    {
      "cell_type": "code",
      "source": [
        "# df2 = pd.read_csv('gt.zip/credits.csv')\r\n",
        "# df2.head(3)"
      ],
      "outputs": [
        {
          "output_type": "execute_result",
          "execution_count": 4,
          "data": {
            "text/plain": "                                                cast  \\\n0  [{'cast_id': 14, 'character': 'Woody (voice)',...   \n1  [{'cast_id': 1, 'character': 'Alan Parrish', '...   \n2  [{'cast_id': 2, 'character': 'Max Goldman', 'c...   \n\n                                                crew     id  \n0  [{'credit_id': '52fe4284c3a36847f8024f49', 'de...    862  \n1  [{'credit_id': '52fe44bfc3a36847f80a7cd1', 'de...   8844  \n2  [{'credit_id': '52fe466a9251416c75077a89', 'de...  15602  ",
            "text/html": "<div>\n<style scoped>\n    .dataframe tbody tr th:only-of-type {\n        vertical-align: middle;\n    }\n\n    .dataframe tbody tr th {\n        vertical-align: top;\n    }\n\n    .dataframe thead th {\n        text-align: right;\n    }\n</style>\n<table border=\"1\" class=\"dataframe\">\n  <thead>\n    <tr style=\"text-align: right;\">\n      <th></th>\n      <th>cast</th>\n      <th>crew</th>\n      <th>id</th>\n    </tr>\n  </thead>\n  <tbody>\n    <tr>\n      <th>0</th>\n      <td>[{'cast_id': 14, 'character': 'Woody (voice)',...</td>\n      <td>[{'credit_id': '52fe4284c3a36847f8024f49', 'de...</td>\n      <td>862</td>\n    </tr>\n    <tr>\n      <th>1</th>\n      <td>[{'cast_id': 1, 'character': 'Alan Parrish', '...</td>\n      <td>[{'credit_id': '52fe44bfc3a36847f80a7cd1', 'de...</td>\n      <td>8844</td>\n    </tr>\n    <tr>\n      <th>2</th>\n      <td>[{'cast_id': 2, 'character': 'Max Goldman', 'c...</td>\n      <td>[{'credit_id': '52fe466a9251416c75077a89', 'de...</td>\n      <td>15602</td>\n    </tr>\n  </tbody>\n</table>\n</div>"
          },
          "metadata": {}
        }
      ],
      "execution_count": 4,
      "metadata": {
        "collapsed": true,
        "jupyter": {
          "source_hidden": false,
          "outputs_hidden": false
        },
        "nteract": {
          "transient": {
            "deleting": false
          }
        },
        "gather": {
          "logged": 1618557837479
        }
      }
    },
    {
      "cell_type": "code",
      "source": [
        "# df1[\"id\"] = pd.to_numeric(df1[\"id\"], errors='coerce')\r\n",
        "# type(df1.iloc[0][\"id\"])\r\n",
        "# df2[\"id\"] = pd.to_numeric(df2[\"id\"], errors='coerce')\r\n",
        "# type(df2.iloc[0][\"id\"])"
      ],
      "outputs": [
        {
          "output_type": "execute_result",
          "execution_count": 5,
          "data": {
            "text/plain": "numpy.int64"
          },
          "metadata": {}
        }
      ],
      "execution_count": 5,
      "metadata": {
        "collapsed": true,
        "jupyter": {
          "source_hidden": false,
          "outputs_hidden": false
        },
        "nteract": {
          "transient": {
            "deleting": false
          }
        },
        "gather": {
          "logged": 1618557841133
        }
      }
    },
    {
      "cell_type": "code",
      "source": [
        "# df2= df2.merge(df1,on='id')\r\n",
        "# df2.head(3)"
      ],
      "outputs": [
        {
          "output_type": "execute_result",
          "execution_count": 6,
          "data": {
            "text/plain": "                                                cast  \\\n0  [{'cast_id': 14, 'character': 'Woody (voice)',...   \n1  [{'cast_id': 1, 'character': 'Alan Parrish', '...   \n2  [{'cast_id': 2, 'character': 'Max Goldman', 'c...   \n\n                                                crew     id  adult  \\\n0  [{'credit_id': '52fe4284c3a36847f8024f49', 'de...    862  False   \n1  [{'credit_id': '52fe44bfc3a36847f80a7cd1', 'de...   8844  False   \n2  [{'credit_id': '52fe466a9251416c75077a89', 'de...  15602  False   \n\n                               belongs_to_collection    budget  \\\n0  {'id': 10194, 'name': 'Toy Story Collection', ...  30000000   \n1                                                NaN  65000000   \n2  {'id': 119050, 'name': 'Grumpy Old Men Collect...         0   \n\n                                              genres  \\\n0  [{'id': 16, 'name': 'Animation'}, {'id': 35, '...   \n1  [{'id': 12, 'name': 'Adventure'}, {'id': 14, '...   \n2  [{'id': 10749, 'name': 'Romance'}, {'id': 35, ...   \n\n                               homepage    imdb_id original_language  ...  \\\n0  http://toystory.disney.com/toy-story  tt0114709                en  ...   \n1                                   NaN  tt0113497                en  ...   \n2                                   NaN  tt0113228                en  ...   \n\n  release_date      revenue runtime  \\\n0   1995-10-30  373554033.0    81.0   \n1   1995-12-15  262797249.0   104.0   \n2   1995-12-22          0.0   101.0   \n\n                                    spoken_languages    status  \\\n0           [{'iso_639_1': 'en', 'name': 'English'}]  Released   \n1  [{'iso_639_1': 'en', 'name': 'English'}, {'iso...  Released   \n2           [{'iso_639_1': 'en', 'name': 'English'}]  Released   \n\n                                             tagline             title  video  \\\n0                                                NaN         Toy Story  False   \n1          Roll the dice and unleash the excitement!           Jumanji  False   \n2  Still Yelling. Still Fighting. Still Ready for...  Grumpier Old Men  False   \n\n   vote_average vote_count  \n0           7.7     5415.0  \n1           6.9     2413.0  \n2           6.5       92.0  \n\n[3 rows x 26 columns]",
            "text/html": "<div>\n<style scoped>\n    .dataframe tbody tr th:only-of-type {\n        vertical-align: middle;\n    }\n\n    .dataframe tbody tr th {\n        vertical-align: top;\n    }\n\n    .dataframe thead th {\n        text-align: right;\n    }\n</style>\n<table border=\"1\" class=\"dataframe\">\n  <thead>\n    <tr style=\"text-align: right;\">\n      <th></th>\n      <th>cast</th>\n      <th>crew</th>\n      <th>id</th>\n      <th>adult</th>\n      <th>belongs_to_collection</th>\n      <th>budget</th>\n      <th>genres</th>\n      <th>homepage</th>\n      <th>imdb_id</th>\n      <th>original_language</th>\n      <th>...</th>\n      <th>release_date</th>\n      <th>revenue</th>\n      <th>runtime</th>\n      <th>spoken_languages</th>\n      <th>status</th>\n      <th>tagline</th>\n      <th>title</th>\n      <th>video</th>\n      <th>vote_average</th>\n      <th>vote_count</th>\n    </tr>\n  </thead>\n  <tbody>\n    <tr>\n      <th>0</th>\n      <td>[{'cast_id': 14, 'character': 'Woody (voice)',...</td>\n      <td>[{'credit_id': '52fe4284c3a36847f8024f49', 'de...</td>\n      <td>862</td>\n      <td>False</td>\n      <td>{'id': 10194, 'name': 'Toy Story Collection', ...</td>\n      <td>30000000</td>\n      <td>[{'id': 16, 'name': 'Animation'}, {'id': 35, '...</td>\n      <td>http://toystory.disney.com/toy-story</td>\n      <td>tt0114709</td>\n      <td>en</td>\n      <td>...</td>\n      <td>1995-10-30</td>\n      <td>373554033.0</td>\n      <td>81.0</td>\n      <td>[{'iso_639_1': 'en', 'name': 'English'}]</td>\n      <td>Released</td>\n      <td>NaN</td>\n      <td>Toy Story</td>\n      <td>False</td>\n      <td>7.7</td>\n      <td>5415.0</td>\n    </tr>\n    <tr>\n      <th>1</th>\n      <td>[{'cast_id': 1, 'character': 'Alan Parrish', '...</td>\n      <td>[{'credit_id': '52fe44bfc3a36847f80a7cd1', 'de...</td>\n      <td>8844</td>\n      <td>False</td>\n      <td>NaN</td>\n      <td>65000000</td>\n      <td>[{'id': 12, 'name': 'Adventure'}, {'id': 14, '...</td>\n      <td>NaN</td>\n      <td>tt0113497</td>\n      <td>en</td>\n      <td>...</td>\n      <td>1995-12-15</td>\n      <td>262797249.0</td>\n      <td>104.0</td>\n      <td>[{'iso_639_1': 'en', 'name': 'English'}, {'iso...</td>\n      <td>Released</td>\n      <td>Roll the dice and unleash the excitement!</td>\n      <td>Jumanji</td>\n      <td>False</td>\n      <td>6.9</td>\n      <td>2413.0</td>\n    </tr>\n    <tr>\n      <th>2</th>\n      <td>[{'cast_id': 2, 'character': 'Max Goldman', 'c...</td>\n      <td>[{'credit_id': '52fe466a9251416c75077a89', 'de...</td>\n      <td>15602</td>\n      <td>False</td>\n      <td>{'id': 119050, 'name': 'Grumpy Old Men Collect...</td>\n      <td>0</td>\n      <td>[{'id': 10749, 'name': 'Romance'}, {'id': 35, ...</td>\n      <td>NaN</td>\n      <td>tt0113228</td>\n      <td>en</td>\n      <td>...</td>\n      <td>1995-12-22</td>\n      <td>0.0</td>\n      <td>101.0</td>\n      <td>[{'iso_639_1': 'en', 'name': 'English'}]</td>\n      <td>Released</td>\n      <td>Still Yelling. Still Fighting. Still Ready for...</td>\n      <td>Grumpier Old Men</td>\n      <td>False</td>\n      <td>6.5</td>\n      <td>92.0</td>\n    </tr>\n  </tbody>\n</table>\n<p>3 rows × 26 columns</p>\n</div>"
          },
          "metadata": {}
        }
      ],
      "execution_count": 6,
      "metadata": {
        "collapsed": true,
        "jupyter": {
          "source_hidden": false,
          "outputs_hidden": false
        },
        "nteract": {
          "transient": {
            "deleting": false
          }
        },
        "gather": {
          "logged": 1618557844465
        }
      }
    },
    {
      "cell_type": "code",
      "source": [
        "# new_df2 = df2\r\n",
        "# new_df2[new_df2[\"title\"] == \"The Matrix\"]"
      ],
      "outputs": [
        {
          "output_type": "execute_result",
          "execution_count": 7,
          "data": {
            "text/plain": "                                                   cast  \\\n2466  [{'cast_id': 34, 'character': 'Thomas \"Neo\" An...   \n\n                                                   crew   id  adult  \\\n2466  [{'credit_id': '52fe425bc3a36847f801812f', 'de...  603  False   \n\n                                  belongs_to_collection    budget  \\\n2466  {'id': 2344, 'name': 'The Matrix Collection', ...  63000000   \n\n                                                 genres  \\\n2466  [{'id': 28, 'name': 'Action'}, {'id': 878, 'na...   \n\n                              homepage    imdb_id original_language  ...  \\\n2466  http://www.warnerbros.com/matrix  tt0133093                en  ...   \n\n     release_date      revenue runtime  \\\n2466   1999-03-30  463517383.0   136.0   \n\n                              spoken_languages    status  \\\n2466  [{'iso_639_1': 'en', 'name': 'English'}]  Released   \n\n                         tagline       title  video  vote_average vote_count  \n2466  Welcome to the Real World.  The Matrix  False           7.9     9079.0  \n\n[1 rows x 26 columns]",
            "text/html": "<div>\n<style scoped>\n    .dataframe tbody tr th:only-of-type {\n        vertical-align: middle;\n    }\n\n    .dataframe tbody tr th {\n        vertical-align: top;\n    }\n\n    .dataframe thead th {\n        text-align: right;\n    }\n</style>\n<table border=\"1\" class=\"dataframe\">\n  <thead>\n    <tr style=\"text-align: right;\">\n      <th></th>\n      <th>cast</th>\n      <th>crew</th>\n      <th>id</th>\n      <th>adult</th>\n      <th>belongs_to_collection</th>\n      <th>budget</th>\n      <th>genres</th>\n      <th>homepage</th>\n      <th>imdb_id</th>\n      <th>original_language</th>\n      <th>...</th>\n      <th>release_date</th>\n      <th>revenue</th>\n      <th>runtime</th>\n      <th>spoken_languages</th>\n      <th>status</th>\n      <th>tagline</th>\n      <th>title</th>\n      <th>video</th>\n      <th>vote_average</th>\n      <th>vote_count</th>\n    </tr>\n  </thead>\n  <tbody>\n    <tr>\n      <th>2466</th>\n      <td>[{'cast_id': 34, 'character': 'Thomas \"Neo\" An...</td>\n      <td>[{'credit_id': '52fe425bc3a36847f801812f', 'de...</td>\n      <td>603</td>\n      <td>False</td>\n      <td>{'id': 2344, 'name': 'The Matrix Collection', ...</td>\n      <td>63000000</td>\n      <td>[{'id': 28, 'name': 'Action'}, {'id': 878, 'na...</td>\n      <td>http://www.warnerbros.com/matrix</td>\n      <td>tt0133093</td>\n      <td>en</td>\n      <td>...</td>\n      <td>1999-03-30</td>\n      <td>463517383.0</td>\n      <td>136.0</td>\n      <td>[{'iso_639_1': 'en', 'name': 'English'}]</td>\n      <td>Released</td>\n      <td>Welcome to the Real World.</td>\n      <td>The Matrix</td>\n      <td>False</td>\n      <td>7.9</td>\n      <td>9079.0</td>\n    </tr>\n  </tbody>\n</table>\n<p>1 rows × 26 columns</p>\n</div>"
          },
          "metadata": {}
        }
      ],
      "execution_count": 7,
      "metadata": {
        "collapsed": true,
        "jupyter": {
          "source_hidden": false,
          "outputs_hidden": false
        },
        "nteract": {
          "transient": {
            "deleting": false
          }
        },
        "gather": {
          "logged": 1618557847739
        }
      }
    },
    {
      "cell_type": "code",
      "source": [
        "# for row in df2.index:\r\n",
        "#     cast_list = df2.loc[row][\"cast\"]\r\n",
        "#     cast_list = ast.literal_eval(cast_list)\r\n",
        "#     # cast_list = json.loads(cast_list)\r\n",
        "#     cast_str = \"\"\r\n",
        "#     for ele in cast_list[:4]:\r\n",
        "#         cast_str += \"\".join(ele[\"name\"].split()) + \" \"\r\n",
        "#     df2.loc[row, [\"cast\"]] = cast_str\r\n",
        "\r\n",
        "#     crew_list = df2.loc[row][\"crew\"]\r\n",
        "#     crew_list = ast.literal_eval(crew_list)\r\n",
        "#     # crew_list = json.loads(crew_list)\r\n",
        "#     crew_df = pd.DataFrame(crew_list)\r\n",
        "#     try:\r\n",
        "#         crew_df = crew_df[crew_df[\"department\"] == \"Directing\"]\r\n",
        "#         df2.loc[row, [\"crew\"]] = crew_df.iloc[0][\"name\"]\r\n",
        "#     except:\r\n",
        "#         df2.loc[row, [\"crew\"]] = \"\"\r\n",
        "    \r\n",
        "#     genre_list = df2.loc[row][\"genres\"]\r\n",
        "#     genre_list = ast.literal_eval(genre_list)\r\n",
        "#     # genre_list = json.loads(genre_list)\r\n",
        "#     genre_str = \"\"\r\n",
        "#     for ele in genre_list:\r\n",
        "#         genre_str += \"\".join(ele[\"name\"].split()) + \" \"\r\n",
        "#     df2.loc[row, [\"genres\"]] = genre_str"
      ],
      "outputs": [],
      "execution_count": 8,
      "metadata": {
        "collapsed": true,
        "jupyter": {
          "source_hidden": false,
          "outputs_hidden": false
        },
        "nteract": {
          "transient": {
            "deleting": false
          }
        },
        "gather": {
          "logged": 1618558474083
        }
      }
    },
    {
      "cell_type": "code",
      "source": [
        "df2.to_csv(\"/mnt/batch/tasks/shared/LS_root/mounts/clusters/movie-ram/code/Users/chirag.jhawar/tmdb_processed.csv\", index=False)"
      ],
      "outputs": [
        {
          "output_type": "error",
          "ename": "NameError",
          "evalue": "name 'df2' is not defined",
          "traceback": [
            "\u001b[0;31m---------------------------------------------------------------------------\u001b[0m",
            "\u001b[0;31mNameError\u001b[0m                                 Traceback (most recent call last)",
            "\u001b[0;32m<ipython-input-3-89be4217e7b6>\u001b[0m in \u001b[0;36m<module>\u001b[0;34m\u001b[0m\n\u001b[0;32m----> 1\u001b[0;31m \u001b[0mdf2\u001b[0m\u001b[0;34m.\u001b[0m\u001b[0mto_csv\u001b[0m\u001b[0;34m(\u001b[0m\u001b[0;34m\"/mnt/batch/tasks/shared/LS_root/mounts/clusters/movie-ram/code/Users/chirag.jhawar/tmdb_processed.csv\"\u001b[0m\u001b[0;34m,\u001b[0m \u001b[0mindex\u001b[0m\u001b[0;34m=\u001b[0m\u001b[0;32mFalse\u001b[0m\u001b[0;34m)\u001b[0m\u001b[0;34m\u001b[0m\u001b[0;34m\u001b[0m\u001b[0m\n\u001b[0m",
            "\u001b[0;31mNameError\u001b[0m: name 'df2' is not defined"
          ]
        }
      ],
      "execution_count": 3,
      "metadata": {
        "collapsed": true,
        "jupyter": {
          "source_hidden": false,
          "outputs_hidden": false
        },
        "nteract": {
          "transient": {
            "deleting": false
          }
        },
        "gather": {
          "logged": 1618558476063
        }
      }
    },
    {
      "cell_type": "code",
      "source": [
        "import pandas as pd \r\n",
        "import numpy as np"
      ],
      "outputs": [],
      "execution_count": 4,
      "metadata": {
        "collapsed": true,
        "jupyter": {
          "source_hidden": false,
          "outputs_hidden": false
        },
        "nteract": {
          "transient": {
            "deleting": false
          }
        },
        "gather": {
          "logged": 1618559810267
        }
      }
    },
    {
      "cell_type": "code",
      "source": [
        "df2 = pd.read_csv(\"/mnt/batch/tasks/shared/LS_root/mounts/clusters/movie-ram/code/Users/chirag.jhawar/tmdb_processed.csv\")"
      ],
      "outputs": [],
      "execution_count": 5,
      "metadata": {
        "collapsed": true,
        "jupyter": {
          "source_hidden": false,
          "outputs_hidden": false
        },
        "nteract": {
          "transient": {
            "deleting": false
          }
        },
        "gather": {
          "logged": 1618559813119
        }
      }
    },
    {
      "cell_type": "code",
      "source": [
        "df2 = df2.fillna(\"\")\r\n",
        "new_df2 = df2.iloc[:20000]"
      ],
      "outputs": [],
      "execution_count": 6,
      "metadata": {
        "collapsed": true,
        "jupyter": {
          "source_hidden": false,
          "outputs_hidden": false
        },
        "nteract": {
          "transient": {
            "deleting": false
          }
        },
        "gather": {
          "logged": 1618559815752
        }
      }
    },
    {
      "cell_type": "code",
      "source": [
        "tfidf = TfidfVectorizer()\r\n",
        "new_df2['overview'] = new_df2['overview'].fillna('')\r\n",
        "tfidf_matrix_overview = tfidf.fit_transform(new_df2['overview'])\r\n",
        "tfidf_matrix_cast = tfidf.fit_transform(new_df2['cast'])\r\n",
        "tfidf_matrix_crew = tfidf.fit_transform(new_df2['crew'])\r\n",
        "tfidf_matrix_genres = tfidf.fit_transform(new_df2['crew'])"
      ],
      "outputs": [
        {
          "output_type": "stream",
          "name": "stderr",
          "text": [
            "/anaconda/envs/azureml_py36/lib/python3.6/site-packages/ipykernel_launcher.py:2: SettingWithCopyWarning: \n",
            "A value is trying to be set on a copy of a slice from a DataFrame.\n",
            "Try using .loc[row_indexer,col_indexer] = value instead\n",
            "\n",
            "See the caveats in the documentation: http://pandas.pydata.org/pandas-docs/stable/user_guide/indexing.html#returning-a-view-versus-a-copy\n",
            "  \n"
          ]
        }
      ],
      "execution_count": 7,
      "metadata": {
        "collapsed": true,
        "jupyter": {
          "source_hidden": false,
          "outputs_hidden": false
        },
        "nteract": {
          "transient": {
            "deleting": false
          }
        },
        "gather": {
          "logged": 1618559822873
        }
      }
    },
    {
      "cell_type": "code",
      "source": [
        "cosine_sim_overview = linear_kernel(tfidf_matrix_overview, tfidf_matrix_overview)\r\n",
        "cosine_sim_cast = linear_kernel(tfidf_matrix_cast, tfidf_matrix_cast)\r\n",
        "cosine_sim_crew = linear_kernel(tfidf_matrix_crew, tfidf_matrix_crew)\r\n",
        "cosine_sim_genres = linear_kernel(tfidf_matrix_genres, tfidf_matrix_genres)\r\n",
        "final_cosine_sim = cosine_sim_overview + cosine_sim_cast + cosine_sim_crew + cosine_sim_genres\r\n",
        "# final_cosine_sim += linear_kernel(tfidf_matrix_cast, tfidf_matrix_cast)\r\n",
        "# final_cosine_sim += linear_kernel(tfidf_matrix_crew, tfidf_matrix_crew)\r\n",
        "# final_cosine_sim += linear_kernel(tfidf_matrix_genres, tfidf_matrix_genres)"
      ],
      "outputs": [],
      "execution_count": 8,
      "metadata": {
        "collapsed": true,
        "jupyter": {
          "source_hidden": false,
          "outputs_hidden": false
        },
        "nteract": {
          "transient": {
            "deleting": false
          }
        },
        "gather": {
          "logged": 1618559849808
        }
      }
    },
    {
      "cell_type": "code",
      "source": [
        "final_cosine_sim"
      ],
      "outputs": [
        {
          "output_type": "execute_result",
          "execution_count": 13,
          "data": {
            "text/plain": "array([[4.        , 0.03157472, 0.01314537, ..., 0.02039742, 0.01474638,\n        0.01675397],\n       [0.03157472, 4.        , 0.05869463, ..., 0.01422166, 0.01837918,\n        0.04115519],\n       [0.01314537, 0.05869463, 4.        , ..., 0.        , 0.00657336,\n        0.06615119],\n       ...,\n       [0.02039742, 0.01422166, 0.        , ..., 4.        , 0.01936244,\n        0.01265047],\n       [0.01474638, 0.01837918, 0.00657336, ..., 0.01936244, 4.        ,\n        0.07412789],\n       [0.01675397, 0.04115519, 0.06615119, ..., 0.01265047, 0.07412789,\n        4.        ]])"
          },
          "metadata": {}
        }
      ],
      "execution_count": 13,
      "metadata": {
        "collapsed": true,
        "jupyter": {
          "source_hidden": false,
          "outputs_hidden": false
        },
        "nteract": {
          "transient": {
            "deleting": false
          }
        },
        "gather": {
          "logged": 1618559941518
        }
      }
    },
    {
      "cell_type": "code",
      "source": [
        "indices = pd.DataFrame()\r\n",
        "indices[\"index\"] = new_df2.index\r\n",
        "indices[\"title\"] = new_df2['title']"
      ],
      "outputs": [],
      "execution_count": 14,
      "metadata": {
        "collapsed": true,
        "jupyter": {
          "source_hidden": false,
          "outputs_hidden": false
        },
        "nteract": {
          "transient": {
            "deleting": false
          }
        },
        "gather": {
          "logged": 1618559968443
        }
      }
    },
    {
      "cell_type": "code",
      "source": [
        "indices[ indices[\"title\"] == \"Toy Story\"]"
      ],
      "outputs": [
        {
          "output_type": "execute_result",
          "execution_count": 15,
          "data": {
            "text/plain": "   index      title\n0      0  Toy Story",
            "text/html": "<div>\n<style scoped>\n    .dataframe tbody tr th:only-of-type {\n        vertical-align: middle;\n    }\n\n    .dataframe tbody tr th {\n        vertical-align: top;\n    }\n\n    .dataframe thead th {\n        text-align: right;\n    }\n</style>\n<table border=\"1\" class=\"dataframe\">\n  <thead>\n    <tr style=\"text-align: right;\">\n      <th></th>\n      <th>index</th>\n      <th>title</th>\n    </tr>\n  </thead>\n  <tbody>\n    <tr>\n      <th>0</th>\n      <td>0</td>\n      <td>Toy Story</td>\n    </tr>\n  </tbody>\n</table>\n</div>"
          },
          "metadata": {}
        }
      ],
      "execution_count": 15,
      "metadata": {
        "collapsed": true,
        "jupyter": {
          "source_hidden": false,
          "outputs_hidden": false
        },
        "nteract": {
          "transient": {
            "deleting": false
          }
        },
        "gather": {
          "logged": 1618559972203
        }
      }
    },
    {
      "cell_type": "code",
      "source": [
        "# save numpy array as npy file\r\n",
        "from numpy import asarray\r\n",
        "from numpy import save\r\n",
        "# define data\r\n",
        "# data_cosine_sim_overview = asarray(cosine_sim_overview)\r\n",
        "# data_cosine_sim_cast = asarray(cosine_sim_cast)\r\n",
        "# data_cosine_sim_crew = asarray(cosine_sim_crew)\r\n",
        "# data_cosine_sim_genres = asarray(cosine_sim_genres)\r\n",
        "data = asarray(final_cosine_sim)\r\n",
        "# save('/mnt/batch/tasks/shared/LS_root/mounts/clusters/movie-ram/code/Users/chirag.jhawar/Weights/data_cosine_sim_overview.npy', data_cosine_sim_overview)\r\n",
        "# save('/mnt/batch/tasks/shared/LS_root/mounts/clusters/movie-ram/code/Users/chirag.jhawar/Weights/data_cosine_sim_cast.npy', data_cosine_sim_cast)\r\n",
        "# save('/mnt/batch/tasks/shared/LS_root/mounts/clusters/movie-ram/code/Users/chirag.jhawar/Weights/data_cosine_sim_crew.npy', data_cosine_sim_crew)\r\n",
        "# save('/mnt/batch/tasks/shared/LS_root/mounts/clusters/movie-ram/code/Users/chirag.jhawar/Weights/data_cosine_sim_genres.npy', data_cosine_sim_genres)\r\n",
        "save('/mnt/batch/tasks/shared/LS_root/mounts/clusters/movie-ram/code/Users/chirag.jhawar/Weights/final_cosine_sim_20k.npy', final_cosine_sim)"
      ],
      "outputs": [],
      "execution_count": 18,
      "metadata": {
        "collapsed": true,
        "jupyter": {
          "source_hidden": false,
          "outputs_hidden": false
        },
        "nteract": {
          "transient": {
            "deleting": false
          }
        },
        "gather": {
          "logged": 1618559680128
        }
      }
    },
    {
      "cell_type": "code",
      "source": [
        "# # load numpy array from npy file\r\n",
        "# from numpy import load\r\n",
        "# # load array\r\n",
        "# # cosine_sim_overview = load('/mnt/batch/tasks/shared/LS_root/mounts/clusters/movie-ram/code/Users/chirag.jhawar/Weights/data_cosine_sim_overview.npy')\r\n",
        "# # cosine_sim_cast = load('/mnt/batch/tasks/shared/LS_root/mounts/clusters/movie-ram/code/Users/chirag.jhawar/Weights/data_cosine_sim_cast.npy')\r\n",
        "# # cosine_sim_crew = load('/mnt/batch/tasks/shared/LS_root/mounts/clusters/movie-ram/code/Users/chirag.jhawar/Weights/data_cosine_sim_crew.npy')\r\n",
        "# # cosine_sim_genres = load('/mnt/batch/tasks/shared/LS_root/mounts/clusters/movie-ram/code/Users/chirag.jhawar/Weights/data_cosine_sim_genres.npy')\r\n",
        "# final_cosine_sim = load('/mnt/batch/tasks/shared/LS_root/mounts/clusters/movie-ram/code/Users/chirag.jhawar/Weights/final_cosine_sim_20k.npy')"
      ],
      "outputs": [],
      "execution_count": 19,
      "metadata": {
        "collapsed": true,
        "jupyter": {
          "source_hidden": false,
          "outputs_hidden": false
        },
        "nteract": {
          "transient": {
            "deleting": false
          }
        },
        "gather": {
          "logged": 1618559680275
        }
      }
    },
    {
      "cell_type": "code",
      "source": [
        "def get_recommendations(title):\r\n",
        "    idx = indices[indices[\"title\"] == title][\"index\"].to_list()[0]\r\n",
        "    final_sim = np.array(final_cosine_sim[idx])\r\n",
        "    sim_scores = list(enumerate(final_sim))\r\n",
        "    sim_scores = sorted(sim_scores, key=lambda x: x[1], reverse=True)\r\n",
        "    # print(sim_scores)\r\n",
        "    sim_scores = sim_scores[1:11]\r\n",
        "    movie_indices = [i[0] for i in sim_scores]\r\n",
        "    return new_df2['title'].iloc[movie_indices]"
      ],
      "outputs": [],
      "execution_count": 21,
      "metadata": {
        "collapsed": true,
        "jupyter": {
          "source_hidden": false,
          "outputs_hidden": false
        },
        "nteract": {
          "transient": {
            "deleting": false
          }
        },
        "gather": {
          "logged": 1618560108150
        }
      }
    },
    {
      "cell_type": "code",
      "source": [
        "get_recommendations(\"The Matrix\")"
      ],
      "outputs": [
        {
          "output_type": "execute_result",
          "execution_count": 22,
          "data": {
            "text/plain": "6250         The Matrix Reloaded\n846                        Bound\n6812      The Matrix Revolutions\n12592                Speed Racer\n9405               The Animatrix\n13455    Fireflies in the Garden\n17853          The Soul of a Man\n3867                  Red Planet\n4110                     Memento\n11459                  Snow Cake\nName: title, dtype: object"
          },
          "metadata": {}
        }
      ],
      "execution_count": 22,
      "metadata": {
        "collapsed": true,
        "jupyter": {
          "source_hidden": false,
          "outputs_hidden": false
        },
        "nteract": {
          "transient": {
            "deleting": false
          }
        },
        "gather": {
          "logged": 1618560110320
        }
      }
    },
    {
      "cell_type": "code",
      "source": [
        "get_recommendations(\"Toy Story\")"
      ],
      "outputs": [
        {
          "output_type": "execute_result",
          "execution_count": 23,
          "data": {
            "text/plain": "19237                                  Red's Dream\n11018                                         Cars\n17433                                       Cars 2\n19287                                  Knick Knack\n10698                                     Luxo Jr.\n19183                                      Tin Toy\n15413                                  Toy Story 3\n3008                                   Toy Story 2\n14787    Dr. Otto and the Riddle of the Gloom Beam\n14726          Mr. Warmth: The Don Rickles Project\nName: title, dtype: object"
          },
          "metadata": {}
        }
      ],
      "execution_count": 23,
      "metadata": {
        "collapsed": true,
        "jupyter": {
          "source_hidden": false,
          "outputs_hidden": false
        },
        "nteract": {
          "transient": {
            "deleting": false
          }
        },
        "gather": {
          "logged": 1618560113790
        }
      }
    },
    {
      "cell_type": "code",
      "source": [],
      "outputs": [],
      "execution_count": null,
      "metadata": {
        "collapsed": true,
        "jupyter": {
          "source_hidden": false,
          "outputs_hidden": false
        },
        "nteract": {
          "transient": {
            "deleting": false
          }
        }
      }
    }
  ],
  "metadata": {
    "kernelspec": {
      "name": "python3-azureml",
      "language": "python",
      "display_name": "Python 3.6 - AzureML"
    },
    "language_info": {
      "name": "python",
      "version": "3.6.9",
      "mimetype": "text/x-python",
      "codemirror_mode": {
        "name": "ipython",
        "version": 3
      },
      "pygments_lexer": "ipython3",
      "nbconvert_exporter": "python",
      "file_extension": ".py"
    },
    "kernel_info": {
      "name": "python3-azureml"
    },
    "nteract": {
      "version": "nteract-front-end@1.0.0"
    },
    "microsoft": {
      "host": {
        "AzureML": {
          "notebookHasBeenCompleted": true
        }
      }
    }
  },
  "nbformat": 4,
  "nbformat_minor": 2
}